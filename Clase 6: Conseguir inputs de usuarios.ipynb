{
  "nbformat": 4,
  "nbformat_minor": 0,
  "metadata": {
    "colab": {
      "name": "Clase 6: Conseguir inputs de usuarios.ipynb",
      "provenance": [],
      "collapsed_sections": [],
      "authorship_tag": "ABX9TyMjJLsQ903mV2xOm/o0I+ex",
      "include_colab_link": true
    },
    "kernelspec": {
      "name": "python3",
      "display_name": "Python 3"
    },
    "language_info": {
      "name": "python"
    }
  },
  "cells": [
    {
      "cell_type": "markdown",
      "metadata": {
        "id": "view-in-github",
        "colab_type": "text"
      },
      "source": [
        "<a href=\"https://colab.research.google.com/github/AlexPrados/Curso-Youtube-Python-freeCodeCamp.org/blob/main/Clase%206%3A%20Conseguir%20inputs%20de%20usuarios.ipynb\" target=\"_parent\"><img src=\"https://colab.research.google.com/assets/colab-badge.svg\" alt=\"Open In Colab\"/></a>"
      ]
    },
    {
      "cell_type": "markdown",
      "source": [
        "#Conseguir inputs de usuarios\n",
        "Vamos a permitir que a un usuario introducir información en nuestro programa y vamos a guardarlo dentro de una variable para luego poder hacer algo con esa variable"
      ],
      "metadata": {
        "id": "ukgtTGKKGFK_"
      }
    },
    {
      "cell_type": "code",
      "execution_count": 5,
      "metadata": {
        "colab": {
          "base_uri": "https://localhost:8080/"
        },
        "id": "GTia4GSnF8yc",
        "outputId": "2a19a07e-1bbd-4442-fd0e-4a364ee37365"
      },
      "outputs": [
        {
          "output_type": "stream",
          "name": "stdout",
          "text": [
            "Introduzca su nombreMike\n",
            "Hello Mike!\n"
          ]
        }
      ],
      "source": [
        "nombre = input(\"Introduzca su nombre\") # La función input permite que el usuario introduzca información. Dentro de los paréntesis podemos especificar la información que queremos que el usuario introduzca\n",
        "print(\"¡Hola \" + nombre + \"!\")"
      ]
    },
    {
      "cell_type": "code",
      "source": [
        "nombre = input(\"Introduzca su nombre\") # Se puede pedir más inputs al usuario\n",
        "edad = input(\"Introduzca su edad\")\n",
        "print(\"¡Hola \" + nombre + \"! Tienes\" + edad + \" años\")"
      ],
      "metadata": {
        "colab": {
          "base_uri": "https://localhost:8080/"
        },
        "id": "KKHUxzgNL9TX",
        "outputId": "de799939-9b78-4531-cb51-091419962e59"
      },
      "execution_count": 6,
      "outputs": [
        {
          "output_type": "stream",
          "name": "stdout",
          "text": [
            "Introduzca su nombreJohn\n",
            "Introduzca su edad25\n",
            "¡Hola John! Tienes25 años\n"
          ]
        }
      ]
    }
  ]
}