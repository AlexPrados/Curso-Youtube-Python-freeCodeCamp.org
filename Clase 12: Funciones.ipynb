{
  "nbformat": 4,
  "nbformat_minor": 0,
  "metadata": {
    "colab": {
      "name": "Clase 12: Funciones.ipynb",
      "provenance": [],
      "authorship_tag": "ABX9TyMycDJ6pfKT9QCcz5rOINYc",
      "include_colab_link": true
    },
    "kernelspec": {
      "name": "python3",
      "display_name": "Python 3"
    },
    "language_info": {
      "name": "python"
    }
  },
  "cells": [
    {
      "cell_type": "markdown",
      "metadata": {
        "id": "view-in-github",
        "colab_type": "text"
      },
      "source": [
        "<a href=\"https://colab.research.google.com/github/AlexPrados/Curso-Youtube-Python-freeCodeCamp.org/blob/main/Clase%2012%3A%20Funciones.ipynb\" target=\"_parent\"><img src=\"https://colab.research.google.com/assets/colab-badge.svg\" alt=\"Open In Colab\"/></a>"
      ]
    },
    {
      "cell_type": "markdown",
      "source": [
        "#Funciones\n",
        "En programación, una función es una sección de un programa que calcula un valor de manera independiente al resto del programa. Una función tiene tres componentes importantes:\n",
        "*   Los parámetros, que son los valores que recibe la función como entrada;\n",
        "*   El código de la función, que son las operaciones que hace la función\n",
        "*   El resultado (o valor de retorno), que es el valor final que entrega la función\n",
        "\n",
        "\n",
        "\n",
        "\n"
      ],
      "metadata": {
        "id": "nwHOfe4s4Gj1"
      }
    },
    {
      "cell_type": "code",
      "execution_count": 15,
      "metadata": {
        "colab": {
          "base_uri": "https://localhost:8080/"
        },
        "id": "LCK231F-4ExS",
        "outputId": "cd3fae12-4016-43f1-d443-1687598f627b"
      },
      "outputs": [
        {
          "output_type": "stream",
          "name": "stdout",
          "text": [
            "Hola Usuario\n"
          ]
        }
      ],
      "source": [
        "def di_hola(): # Para crear una función usaremos def nombre de la función():\n",
        "  print(\"Hola Usuario\")\n",
        "\n",
        "di_hola() # Las funciones tienen que ser llamadas para mostrar su resultado"
      ]
    },
    {
      "cell_type": "code",
      "source": [
        "def di_hola():\n",
        "  print(\"Hola Usuario\")\n",
        "\n",
        "print(\"Superior\")\n",
        "di_hola()\n",
        "print(\"Inferior\")"
      ],
      "metadata": {
        "colab": {
          "base_uri": "https://localhost:8080/"
        },
        "id": "pkAmZ33L5C_F",
        "outputId": "c7482c6e-c5fe-4552-c904-46a3bfcc6fd9"
      },
      "execution_count": 14,
      "outputs": [
        {
          "output_type": "stream",
          "name": "stdout",
          "text": [
            "Superior\n",
            "Hola Usuario\n",
            "Inferior\n"
          ]
        }
      ]
    },
    {
      "cell_type": "code",
      "source": [
        "def di_hola(nombre):\n",
        "  print(\"Hola \" + nombre) # No presenta ninguna excepción según lo visto anteriormente\n",
        "\n",
        "di_hola(\"Mike\")\n",
        "di_hola(\"Steve\")"
      ],
      "metadata": {
        "colab": {
          "base_uri": "https://localhost:8080/"
        },
        "id": "6iLO7PK15sL9",
        "outputId": "ac26d566-a955-499e-9a40-700e4f1fce5b"
      },
      "execution_count": 13,
      "outputs": [
        {
          "output_type": "stream",
          "name": "stdout",
          "text": [
            "Hola Mike\n",
            "Hola Steve\n"
          ]
        }
      ]
    },
    {
      "cell_type": "code",
      "source": [
        "def di_hola(nombre, edad):\n",
        "  print(\"Hola \" + nombre + \", tiene \" + str(edad))\n",
        "\n",
        "di_hola(\"Mike\", 35)\n",
        "di_hola(\"Steve\", 70)"
      ],
      "metadata": {
        "colab": {
          "base_uri": "https://localhost:8080/"
        },
        "id": "0uJo8VLb6E3M",
        "outputId": "9adf8f73-ea67-41eb-bdd3-9811fe4bcb1f"
      },
      "execution_count": 12,
      "outputs": [
        {
          "output_type": "stream",
          "name": "stdout",
          "text": [
            "Hola Mike, tiene 35\n",
            "Hola Steve, tiene 70\n"
          ]
        }
      ]
    }
  ]
}