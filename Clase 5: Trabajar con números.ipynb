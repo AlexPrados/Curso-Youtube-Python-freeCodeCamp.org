{
  "nbformat": 4,
  "nbformat_minor": 0,
  "metadata": {
    "colab": {
      "name": "Clase 5: Trabajar con números.ipynb",
      "provenance": [],
      "collapsed_sections": [],
      "authorship_tag": "ABX9TyPVaPxXkunnB/4Sz/D+M+OY",
      "include_colab_link": true
    },
    "kernelspec": {
      "name": "python3",
      "display_name": "Python 3"
    },
    "language_info": {
      "name": "python"
    }
  },
  "cells": [
    {
      "cell_type": "markdown",
      "metadata": {
        "id": "view-in-github",
        "colab_type": "text"
      },
      "source": [
        "<a href=\"https://colab.research.google.com/github/AlexPrados/Curso-Youtube-Python-freeCodeCamp.org/blob/main/Clase%205%3A%20Trabajar%20con%20n%C3%BAmeros.ipynb\" target=\"_parent\"><img src=\"https://colab.research.google.com/assets/colab-badge.svg\" alt=\"Open In Colab\"/></a>"
      ]
    },
    {
      "cell_type": "markdown",
      "source": [
        "Trabajar con números"
      ],
      "metadata": {
        "id": "6vY1P_yiPqbQ"
      }
    },
    {
      "cell_type": "code",
      "execution_count": 1,
      "metadata": {
        "colab": {
          "base_uri": "https://localhost:8080/"
        },
        "id": "CBNXeSoaPpwg",
        "outputId": "3d4d4909-ac18-4b56-ca46-d805f2644e4e"
      },
      "outputs": [
        {
          "output_type": "stream",
          "name": "stdout",
          "text": [
            "2\n"
          ]
        }
      ],
      "source": [
        "print(2)"
      ]
    },
    {
      "cell_type": "code",
      "source": [
        "print(2.0987)"
      ],
      "metadata": {
        "colab": {
          "base_uri": "https://localhost:8080/"
        },
        "id": "dT_mnhsGPv7E",
        "outputId": "aa587763-0612-4e4b-e088-38d257ceb4eb"
      },
      "execution_count": 2,
      "outputs": [
        {
          "output_type": "stream",
          "name": "stdout",
          "text": [
            "2.0987\n"
          ]
        }
      ]
    },
    {
      "cell_type": "code",
      "source": [
        "print(-2)"
      ],
      "metadata": {
        "colab": {
          "base_uri": "https://localhost:8080/"
        },
        "id": "of19I7i-PzKH",
        "outputId": "86faad65-7343-45e1-9a37-7d62acbeb75c"
      },
      "execution_count": 3,
      "outputs": [
        {
          "output_type": "stream",
          "name": "stdout",
          "text": [
            "-2\n"
          ]
        }
      ]
    },
    {
      "cell_type": "code",
      "source": [
        "print(3+2.5) # No hace falta juntar los símbolos de +, - y demás junto a los número. Se puede dejar un espacio entre los números y el símbolo"
      ],
      "metadata": {
        "colab": {
          "base_uri": "https://localhost:8080/"
        },
        "id": "WCyqqywuP2xr",
        "outputId": "57360e8f-2c98-4ad5-c966-4ecff98cadcb"
      },
      "execution_count": 7,
      "outputs": [
        {
          "output_type": "stream",
          "name": "stdout",
          "text": [
            "5.5\n"
          ]
        }
      ]
    },
    {
      "cell_type": "code",
      "source": [
        "print(2-1)"
      ],
      "metadata": {
        "colab": {
          "base_uri": "https://localhost:8080/"
        },
        "id": "RqkK0cRdP9xX",
        "outputId": "c31fedd1-57b8-4db3-f79d-78dab9bff775"
      },
      "execution_count": 6,
      "outputs": [
        {
          "output_type": "stream",
          "name": "stdout",
          "text": [
            "1\n"
          ]
        }
      ]
    },
    {
      "cell_type": "code",
      "source": [
        "print(3*2)"
      ],
      "metadata": {
        "colab": {
          "base_uri": "https://localhost:8080/"
        },
        "id": "eW2jUBbaQE8x",
        "outputId": "8960eaea-99d8-4fa9-b4ed-7e3f92ffb7fb"
      },
      "execution_count": 8,
      "outputs": [
        {
          "output_type": "stream",
          "name": "stdout",
          "text": [
            "6\n"
          ]
        }
      ]
    },
    {
      "cell_type": "code",
      "source": [
        "print(3*4+5)"
      ],
      "metadata": {
        "colab": {
          "base_uri": "https://localhost:8080/"
        },
        "id": "FURGsWAUQJoW",
        "outputId": "6b13dd1d-df1b-4a8f-d501-4f9200b3a5a8"
      },
      "execution_count": 9,
      "outputs": [
        {
          "output_type": "stream",
          "name": "stdout",
          "text": [
            "17\n"
          ]
        }
      ]
    },
    {
      "cell_type": "code",
      "source": [
        "print(3*(2+2))"
      ],
      "metadata": {
        "colab": {
          "base_uri": "https://localhost:8080/"
        },
        "id": "9Z98jj1hQNoG",
        "outputId": "c92593d7-b469-44d7-d2e5-d5f64893fb4a"
      },
      "execution_count": 10,
      "outputs": [
        {
          "output_type": "stream",
          "name": "stdout",
          "text": [
            "12\n"
          ]
        }
      ]
    },
    {
      "cell_type": "code",
      "source": [
        "print(10/2)"
      ],
      "metadata": {
        "colab": {
          "base_uri": "https://localhost:8080/"
        },
        "id": "IzznXULSXuEz",
        "outputId": "c00dc351-9639-4577-e3d0-abb5290e2fe0"
      },
      "execution_count": 38,
      "outputs": [
        {
          "output_type": "stream",
          "name": "stdout",
          "text": [
            "5.0\n"
          ]
        }
      ]
    },
    {
      "cell_type": "code",
      "source": [
        "print(10%3) # En este caso, nos está mostrando el resto de la división"
      ],
      "metadata": {
        "colab": {
          "base_uri": "https://localhost:8080/"
        },
        "id": "H_c98l4TQVSC",
        "outputId": "dc032bb7-03ee-4209-8d33-105ebbf4d2d0"
      },
      "execution_count": 11,
      "outputs": [
        {
          "output_type": "stream",
          "name": "stdout",
          "text": [
            "1\n"
          ]
        }
      ]
    },
    {
      "cell_type": "code",
      "source": [
        "print(10%5) # Vemos que, al ser el resto 0 de la división, te lo muestra"
      ],
      "metadata": {
        "colab": {
          "base_uri": "https://localhost:8080/"
        },
        "id": "A_sQWiv0QnrI",
        "outputId": "7bafbe16-c566-40fe-807c-367135523451"
      },
      "execution_count": 12,
      "outputs": [
        {
          "output_type": "stream",
          "name": "stdout",
          "text": [
            "0\n"
          ]
        }
      ]
    },
    {
      "cell_type": "code",
      "source": [
        "mi_num = 5\n",
        "print(mi_num)"
      ],
      "metadata": {
        "colab": {
          "base_uri": "https://localhost:8080/"
        },
        "id": "Zw-ftXoSQv2K",
        "outputId": "f7f78cd3-457e-49b1-ea0d-626692cd944e"
      },
      "execution_count": 14,
      "outputs": [
        {
          "output_type": "stream",
          "name": "stdout",
          "text": [
            "5\n"
          ]
        }
      ]
    },
    {
      "cell_type": "code",
      "source": [
        "mi_num = 5 # La función str convierte su contenido en string, una cadena de caracteres\n",
        "print(str(mi_num) + \", mi número favorito\")"
      ],
      "metadata": {
        "colab": {
          "base_uri": "https://localhost:8080/"
        },
        "id": "e9XLqf7oRRKd",
        "outputId": "3f338de9-1d72-4e39-9423-386346d5d526"
      },
      "execution_count": 39,
      "outputs": [
        {
          "output_type": "stream",
          "name": "stdout",
          "text": [
            "5, mi número favorito\n"
          ]
        }
      ]
    },
    {
      "cell_type": "code",
      "source": [
        "mi_num = -5 # La función abs() nos da el valor absoluto del número que indicamos, es decir, nos lo mostrará en positivo\n",
        "print(abs(mi_num))"
      ],
      "metadata": {
        "colab": {
          "base_uri": "https://localhost:8080/"
        },
        "id": "wl7dIvQhRwWH",
        "outputId": "e5d46bc8-8394-401e-cad5-357f14c51117"
      },
      "execution_count": 20,
      "outputs": [
        {
          "output_type": "stream",
          "name": "stdout",
          "text": [
            "5\n"
          ]
        }
      ]
    },
    {
      "cell_type": "code",
      "source": [
        "print(pow(3, 2)) # La función pow indica que el número de la izquierda está elevado por el de la derecha"
      ],
      "metadata": {
        "colab": {
          "base_uri": "https://localhost:8080/"
        },
        "id": "QbcpsG6kSh57",
        "outputId": "fbb67e84-2cb8-4310-88f4-45b3570e8264"
      },
      "execution_count": 21,
      "outputs": [
        {
          "output_type": "stream",
          "name": "stdout",
          "text": [
            "9\n"
          ]
        }
      ]
    },
    {
      "cell_type": "code",
      "source": [
        "print(3**2) # Si añadimos dos * hace lo mismo que la función pow, es decir, eleva el número de la izquierda por el número de la derecha"
      ],
      "metadata": {
        "colab": {
          "base_uri": "https://localhost:8080/"
        },
        "id": "8yjKNVQPY-jj",
        "outputId": "53d1a362-0363-4d9b-bb7a-d6b69aed9a01"
      },
      "execution_count": 40,
      "outputs": [
        {
          "output_type": "stream",
          "name": "stdout",
          "text": [
            "9\n"
          ]
        }
      ]
    },
    {
      "cell_type": "code",
      "source": [
        "print(max(4, 6)) # La función max nos indica cual es el número más alto"
      ],
      "metadata": {
        "colab": {
          "base_uri": "https://localhost:8080/"
        },
        "id": "BRuCRfK5TPvH",
        "outputId": "63a93682-7441-418e-dfe0-482cf138d317"
      },
      "execution_count": 22,
      "outputs": [
        {
          "output_type": "stream",
          "name": "stdout",
          "text": [
            "6\n"
          ]
        }
      ]
    },
    {
      "cell_type": "code",
      "source": [
        "print(min(4, 6)) # La función min nos indica cual es el número más bajo"
      ],
      "metadata": {
        "colab": {
          "base_uri": "https://localhost:8080/"
        },
        "id": "UTBIdc5ATcKD",
        "outputId": "5333c474-c8ac-4535-c1a1-87c337e9efed"
      },
      "execution_count": 23,
      "outputs": [
        {
          "output_type": "stream",
          "name": "stdout",
          "text": [
            "4\n"
          ]
        }
      ]
    },
    {
      "cell_type": "code",
      "source": [
        "print(round(4.7)) # La función round redondea el número que se le incluya"
      ],
      "metadata": {
        "colab": {
          "base_uri": "https://localhost:8080/"
        },
        "id": "_SEHT5VvTmor",
        "outputId": "d1163999-e33d-4d06-95eb-dc2cc3e52abc"
      },
      "execution_count": 24,
      "outputs": [
        {
          "output_type": "stream",
          "name": "stdout",
          "text": [
            "5\n"
          ]
        }
      ]
    },
    {
      "cell_type": "code",
      "source": [
        "from math import * # La función import nos permite importar código externo en nuestros archivos. En este caso, hemos importado diferentes funciones matemáticas. Esto sería para fuera de Google Colab supongo"
      ],
      "metadata": {
        "id": "sNWVVaUMU4YO"
      },
      "execution_count": null,
      "outputs": []
    },
    {
      "cell_type": "code",
      "source": [
        "from math import *\n",
        "print(floor(3.7)) # La función floor redondea a la baja. Se tendría que importar con el from math import* antes del código pero en Google Colab parece no hacer falta"
      ],
      "metadata": {
        "colab": {
          "base_uri": "https://localhost:8080/"
        },
        "id": "BHDOgp-pUnuE",
        "outputId": "3515e799-dbd7-44ec-9947-5cbc412c2605"
      },
      "execution_count": 31,
      "outputs": [
        {
          "output_type": "stream",
          "name": "stdout",
          "text": [
            "3\n"
          ]
        }
      ]
    },
    {
      "cell_type": "code",
      "source": [
        "from math import *\n",
        "print(ceil(3.2)) # La función ceil redondea al alza"
      ],
      "metadata": {
        "colab": {
          "base_uri": "https://localhost:8080/"
        },
        "id": "QmuRf-eRVLK2",
        "outputId": "4efe8066-b27d-4096-e6cf-b7b2b11b20e3"
      },
      "execution_count": 37,
      "outputs": [
        {
          "output_type": "stream",
          "name": "stdout",
          "text": [
            "4\n"
          ]
        }
      ]
    },
    {
      "cell_type": "code",
      "source": [
        "from math import *\n",
        "print(sqrt(9)) # La función sqrt hace la raíz cuadrada"
      ],
      "metadata": {
        "colab": {
          "base_uri": "https://localhost:8080/"
        },
        "id": "ZSO40oAUVbee",
        "outputId": "716fe063-8be8-45eb-9951-63ea2b2ecb0b"
      },
      "execution_count": 34,
      "outputs": [
        {
          "output_type": "stream",
          "name": "stdout",
          "text": [
            "3.0\n"
          ]
        }
      ]
    }
  ]
}