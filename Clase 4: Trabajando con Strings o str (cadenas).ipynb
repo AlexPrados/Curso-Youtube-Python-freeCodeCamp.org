{
  "nbformat": 4,
  "nbformat_minor": 0,
  "metadata": {
    "colab": {
      "name": "Clase 4: Trabajando con Strings o str (cadenas).ipynb",
      "provenance": [],
      "collapsed_sections": [],
      "authorship_tag": "ABX9TyOkwPnU/deuFCb3cs/xJMUA",
      "include_colab_link": true
    },
    "kernelspec": {
      "name": "python3",
      "display_name": "Python 3"
    },
    "language_info": {
      "name": "python"
    }
  },
  "cells": [
    {
      "cell_type": "markdown",
      "metadata": {
        "id": "view-in-github",
        "colab_type": "text"
      },
      "source": [
        "<a href=\"https://colab.research.google.com/github/AlexPrados/Curso-Youtube-Python-freeCodeCamp.org/blob/main/Clase%204%3A%20Trabajando%20con%20Strings%20o%20str%20(cadenas).ipynb\" target=\"_parent\"><img src=\"https://colab.research.google.com/assets/colab-badge.svg\" alt=\"Open In Colab\"/></a>"
      ]
    },
    {
      "cell_type": "markdown",
      "source": [
        "Trabajando con Strings o str (cadenas)\n"
      ],
      "metadata": {
        "id": "M8gRU3G2GPrL"
      }
    },
    {
      "cell_type": "code",
      "execution_count": 2,
      "metadata": {
        "id": "AyQcCjr_GNbM",
        "colab": {
          "base_uri": "https://localhost:8080/"
        },
        "outputId": "a6947c8b-540c-41b7-feb1-7b0befa20847"
      },
      "outputs": [
        {
          "output_type": "stream",
          "name": "stdout",
          "text": [
            "Academia\n",
            "Girafa\n"
          ]
        }
      ],
      "source": [
        "print(\"Academia\\nGirafa\") # Si escribimos \\n el texto de la derecha se pondrá debajo del de la izquierda"
      ]
    },
    {
      "cell_type": "code",
      "source": [
        "print(\"Academia\\\"Girafa\") # Si queremos añadir una \", podemos usar una barra y al lado la comilla que deseamos poner para no dar problemas"
      ],
      "metadata": {
        "colab": {
          "base_uri": "https://localhost:8080/"
        },
        "id": "q_xBYYdiJ9TS",
        "outputId": "0bdaa401-75e7-4a42-8615-d1aabf7bd0b9"
      },
      "execution_count": 12,
      "outputs": [
        {
          "output_type": "stream",
          "name": "stdout",
          "text": [
            "Academia\"Girafa\n"
          ]
        }
      ]
    },
    {
      "cell_type": "code",
      "source": [
        "print(\"Academia\\Girafa\") # Poner una simple barra invertida \\ no tiene ningún efecto adicional"
      ],
      "metadata": {
        "colab": {
          "base_uri": "https://localhost:8080/"
        },
        "id": "HMt5qg_NLB8-",
        "outputId": "f7d44e4f-f2a7-4273-e9c3-dd6857e0ffa4"
      },
      "execution_count": 14,
      "outputs": [
        {
          "output_type": "stream",
          "name": "stdout",
          "text": [
            "Academia \\ Girafa\n"
          ]
        }
      ]
    },
    {
      "cell_type": "code",
      "source": [
        "frase = \"Academia Girafa\"\n",
        "print(frase)"
      ],
      "metadata": {
        "colab": {
          "base_uri": "https://localhost:8080/"
        },
        "id": "N9PpKTjJLsO0",
        "outputId": "74777b40-d722-4214-9860-521e8d3d14b7"
      },
      "execution_count": 16,
      "outputs": [
        {
          "output_type": "stream",
          "name": "stdout",
          "text": [
            "Academia Girafa\n"
          ]
        }
      ]
    },
    {
      "cell_type": "code",
      "source": [
        "frase = \"Academia Girafa\" # Agregar una cadena de caracteres con otra se conoce como concatenación (concatenar)\n",
        "print(frase + \" es guay\")"
      ],
      "metadata": {
        "colab": {
          "base_uri": "https://localhost:8080/"
        },
        "id": "Plfft94YMNgx",
        "outputId": "05e48ff3-f9fa-459c-e684-deca88e975a5"
      },
      "execution_count": 18,
      "outputs": [
        {
          "output_type": "stream",
          "name": "stdout",
          "text": [
            "Academia Girafa es guay\n"
          ]
        }
      ]
    },
    {
      "cell_type": "code",
      "source": [
        "frase = \"Academia Girafa\" # La función .upper() hace que la cadena se muestre en mayúsculas\n",
        "print(frase.upper())"
      ],
      "metadata": {
        "colab": {
          "base_uri": "https://localhost:8080/"
        },
        "id": "yI8deNx1OPC6",
        "outputId": "a2c8f9be-6427-483b-8aa8-0d68a10daaa0"
      },
      "execution_count": 21,
      "outputs": [
        {
          "output_type": "stream",
          "name": "stdout",
          "text": [
            "ACADEMIA GIRAFA\n"
          ]
        }
      ]
    },
    {
      "cell_type": "code",
      "source": [
        "frase = \"Academia Girafa\" # La función .lower() hace que la cadena se muestre en minúsculas\n",
        "print(frase.lower())"
      ],
      "metadata": {
        "colab": {
          "base_uri": "https://localhost:8080/"
        },
        "id": "6cMEO0TzOifJ",
        "outputId": "77655798-9024-4acf-eabb-4fcb380f7351"
      },
      "execution_count": 22,
      "outputs": [
        {
          "output_type": "stream",
          "name": "stdout",
          "text": [
            "academia girafa\n"
          ]
        }
      ]
    },
    {
      "cell_type": "code",
      "source": [
        "frase = \"Academia Girafa\" # La función .islower() comprueba si el contenido de la cadena está en minúsculas\n",
        "print(frase.islower())"
      ],
      "metadata": {
        "colab": {
          "base_uri": "https://localhost:8080/"
        },
        "id": "-m5qczqlPVxg",
        "outputId": "3f3e6035-8fec-4082-dbcf-0017ff47c7c9"
      },
      "execution_count": 23,
      "outputs": [
        {
          "output_type": "stream",
          "name": "stdout",
          "text": [
            "False\n"
          ]
        }
      ]
    },
    {
      "cell_type": "code",
      "source": [
        "frase = \"academia girafa\"\n",
        "print(frase.islower())"
      ],
      "metadata": {
        "colab": {
          "base_uri": "https://localhost:8080/"
        },
        "id": "FFVNfZIaPkHk",
        "outputId": "5369aee9-d891-4e28-aa1d-5c3ebd9f9215"
      },
      "execution_count": 25,
      "outputs": [
        {
          "output_type": "stream",
          "name": "stdout",
          "text": [
            "True\n"
          ]
        }
      ]
    },
    {
      "cell_type": "code",
      "source": [
        "frase = \"Academia Girafa\" # La función .isupper() comprueba si el contenido de la cadena está en mayúsculas\n",
        "print(frase.isupper())"
      ],
      "metadata": {
        "colab": {
          "base_uri": "https://localhost:8080/"
        },
        "id": "qTNCLfnePd0Y",
        "outputId": "3f417a1e-c63e-46a2-9f76-5ea82cc6a5ec"
      },
      "execution_count": 24,
      "outputs": [
        {
          "output_type": "stream",
          "name": "stdout",
          "text": [
            "False\n"
          ]
        }
      ]
    },
    {
      "cell_type": "code",
      "source": [
        "frase = \"ACADEMIA GIRAFA\"\n",
        "print(frase.isupper())"
      ],
      "metadata": {
        "colab": {
          "base_uri": "https://localhost:8080/"
        },
        "id": "27urqQiKPnnv",
        "outputId": "690ed8be-2b5a-4e24-98bd-088f87a86090"
      },
      "execution_count": 27,
      "outputs": [
        {
          "output_type": "stream",
          "name": "stdout",
          "text": [
            "True\n"
          ]
        }
      ]
    },
    {
      "cell_type": "code",
      "source": [
        "frase = \"Academia Girafa\" # Puedes conectar varias funciones. En este caso, hemos conectado la función frase con la de poner en mayúsculas la cadena y luego otra función que comprueba si está en mayúsculas el contenido de la cadena\n",
        "print(frase.upper().isupper())"
      ],
      "metadata": {
        "colab": {
          "base_uri": "https://localhost:8080/"
        },
        "id": "aTHuwL3vQK-E",
        "outputId": "0ab0f316-3077-4254-b635-ddba2c5e4b4d"
      },
      "execution_count": 30,
      "outputs": [
        {
          "output_type": "stream",
          "name": "stdout",
          "text": [
            "True\n"
          ]
        }
      ]
    },
    {
      "cell_type": "code",
      "source": [
        "frase = \"Academia Girafa\" # La función len mide la longitud de la cadena (el número de caracteres que tiene)\n",
        "print(len(frase))"
      ],
      "metadata": {
        "colab": {
          "base_uri": "https://localhost:8080/"
        },
        "id": "Pyvg-BVgSD3d",
        "outputId": "c9384592-e37c-4792-93cc-1c619eaeec90"
      },
      "execution_count": 31,
      "outputs": [
        {
          "output_type": "stream",
          "name": "stdout",
          "text": [
            "15\n"
          ]
        }
      ]
    },
    {
      "cell_type": "code",
      "source": [
        "frase = \"Academia Girafa\" # Si acompañamos de la función que representa la cadena los corchetes [] nos mostrará la letra que pongamos según su orden. Se empieza en las cadenas con el número 0, en adelante\n",
        "print(frase[0])"
      ],
      "metadata": {
        "colab": {
          "base_uri": "https://localhost:8080/"
        },
        "id": "CVeHXKNLSlLA",
        "outputId": "c7b6fb65-1973-4f56-bcf6-5eee43d6a40c"
      },
      "execution_count": 34,
      "outputs": [
        {
          "output_type": "stream",
          "name": "stdout",
          "text": [
            "A\n"
          ]
        }
      ]
    },
    {
      "cell_type": "code",
      "source": [
        "frase = \"Academia Girafa\" \n",
        "print(frase[3])"
      ],
      "metadata": {
        "colab": {
          "base_uri": "https://localhost:8080/"
        },
        "id": "08JSopzTTchG",
        "outputId": "641b5dae-630c-4a5d-ed34-af4246b8629b"
      },
      "execution_count": 35,
      "outputs": [
        {
          "output_type": "stream",
          "name": "stdout",
          "text": [
            "d\n"
          ]
        }
      ]
    },
    {
      "cell_type": "code",
      "source": [
        "frase = \"Academia Girafa\" # La función .index nos muestra dónde está el carácter de la cadena que nosotros buscamos\n",
        "print(frase.index(\"A\"))"
      ],
      "metadata": {
        "colab": {
          "base_uri": "https://localhost:8080/"
        },
        "id": "a9hApwlCTs5l",
        "outputId": "7a4196ab-f457-4456-91ce-e8bf8a2fb699"
      },
      "execution_count": 36,
      "outputs": [
        {
          "output_type": "stream",
          "name": "stdout",
          "text": [
            "0\n"
          ]
        }
      ]
    },
    {
      "cell_type": "code",
      "source": [
        "frase = \"Academia Girafa\" # En este caso nos va a mostrar dónde empieza lo que hemos buscado. Nos dará error si ponemos letras o fragmentos de la cadena que no están\n",
        "print(frase.index(\"Gira\"))"
      ],
      "metadata": {
        "colab": {
          "base_uri": "https://localhost:8080/"
        },
        "id": "vJ9U5iYsUIoo",
        "outputId": "6da44880-f826-41a6-b86c-e4be06974c4c"
      },
      "execution_count": 37,
      "outputs": [
        {
          "output_type": "stream",
          "name": "stdout",
          "text": [
            "9\n"
          ]
        }
      ]
    },
    {
      "cell_type": "code",
      "source": [
        "frase = \"Academia Girafa\" # La función .replace nos permite reemplazar caracteres de la cadena por otros. Es importante ponerlos entre comillas y separarlos con una coma\n",
        "print(frase.replace(\"Girafa\", \"Elefante\"))"
      ],
      "metadata": {
        "colab": {
          "base_uri": "https://localhost:8080/"
        },
        "id": "XYfktWA5Uet8",
        "outputId": "c87e81a7-23e5-4a01-8625-0ee1bd2de4cc"
      },
      "execution_count": 39,
      "outputs": [
        {
          "output_type": "stream",
          "name": "stdout",
          "text": [
            "Academia Elefante\n"
          ]
        }
      ]
    }
  ]
}