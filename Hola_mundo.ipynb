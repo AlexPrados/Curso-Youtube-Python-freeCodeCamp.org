{
  "nbformat": 4,
  "nbformat_minor": 0,
  "metadata": {
    "colab": {
      "name": "Hola mundo.ipynb",
      "provenance": [],
      "authorship_tag": "ABX9TyOAffnDXFZ2BfNHZqtMtEyi",
      "include_colab_link": true
    },
    "kernelspec": {
      "name": "python3",
      "display_name": "Python 3"
    },
    "language_info": {
      "name": "python"
    }
  },
  "cells": [
    {
      "cell_type": "markdown",
      "metadata": {
        "id": "view-in-github",
        "colab_type": "text"
      },
      "source": [
        "<a href=\"https://colab.research.google.com/github/AlexPrados/Basicos/blob/main/Hola_mundo.ipynb\" target=\"_parent\"><img src=\"https://colab.research.google.com/assets/colab-badge.svg\" alt=\"Open In Colab\"/></a>"
      ]
    },
    {
      "cell_type": "markdown",
      "source": [
        "Hola mundo"
      ],
      "metadata": {
        "id": "Jv2oRYUxTckP"
      }
    },
    {
      "cell_type": "code",
      "execution_count": null,
      "metadata": {
        "colab": {
          "base_uri": "https://localhost:8080/"
        },
        "id": "qb9mvA62PKCQ",
        "outputId": "05fbfdc5-2e85-4b56-fc1f-c13c8ab7cef5"
      },
      "outputs": [
        {
          "output_type": "stream",
          "name": "stdout",
          "text": [
            "Hola mundo\n"
          ]
        }
      ],
      "source": [
        "print (\"Hola mundo\") # print es una función básica de python que nos sirve para mostrar valores en la pantalla"
      ]
    }
  ]
}