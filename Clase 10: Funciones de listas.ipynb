{
  "nbformat": 4,
  "nbformat_minor": 0,
  "metadata": {
    "colab": {
      "name": "Clase 10: Funciones de listas.ipynb",
      "provenance": [],
      "collapsed_sections": [],
      "authorship_tag": "ABX9TyNCO3DV8lfSK07l/VQ8iKAp",
      "include_colab_link": true
    },
    "kernelspec": {
      "name": "python3",
      "display_name": "Python 3"
    },
    "language_info": {
      "name": "python"
    }
  },
  "cells": [
    {
      "cell_type": "markdown",
      "metadata": {
        "id": "view-in-github",
        "colab_type": "text"
      },
      "source": [
        "<a href=\"https://colab.research.google.com/github/AlexPrados/Curso-Youtube-Python-freeCodeCamp.org/blob/main/Clase%2010%3A%20Funciones%20de%20listas.ipynb\" target=\"_parent\"><img src=\"https://colab.research.google.com/assets/colab-badge.svg\" alt=\"Open In Colab\"/></a>"
      ]
    },
    {
      "cell_type": "markdown",
      "source": [
        "Funciones de listas"
      ],
      "metadata": {
        "id": "5uECPvacwnls"
      }
    },
    {
      "cell_type": "code",
      "execution_count": 3,
      "metadata": {
        "colab": {
          "base_uri": "https://localhost:8080/"
        },
        "id": "JwyVUgsLvdMv",
        "outputId": "3cf374bd-b459-418e-ab2a-4c6c5266051e"
      },
      "outputs": [
        {
          "output_type": "stream",
          "name": "stdout",
          "text": [
            "['Kevin', 'Karen', 'Jim', 'Oscar', 'Toby', 4, 8, 15, 16, 23, 42]\n"
          ]
        }
      ],
      "source": [
        "números_suerte = [4, 8, 15, 16, 23, 42]\n",
        "amigos = [\"Kevin\", \"Karen\", \"Jim\", \"Oscar\", \"Toby\"]\n",
        "amigos.extend(números_suerte) # La función .extend expande la lista con el nombre de la lista que se desea\n",
        "print(amigos)"
      ]
    },
    {
      "cell_type": "code",
      "source": [
        "números_suerte = [4, 8, 15, 16, 23, 42]\n",
        "amigos = [\"Kevin\", \"Karen\", \"Jim\", \"Oscar\", \"Toby\"]\n",
        "amigos.append(\"Creed\") # La función .append adjunta el dato que deseas a la lista que quieras\n",
        "print(amigos)"
      ],
      "metadata": {
        "colab": {
          "base_uri": "https://localhost:8080/"
        },
        "id": "KMUvvhTXxpWI",
        "outputId": "8eaff4b7-d2d3-4d8a-f9be-c7b7f744e2f9"
      },
      "execution_count": 4,
      "outputs": [
        {
          "output_type": "stream",
          "name": "stdout",
          "text": [
            "['Kevin', 'Karen', 'Jim', 'Oscar', 'Toby', 'Creed']\n"
          ]
        }
      ]
    },
    {
      "cell_type": "code",
      "source": [
        "números_suerte = [4, 8, 15, 16, 23, 42]\n",
        "amigos = [\"Kevin\", \"Karen\", \"Jim\", \"Oscar\", \"Toby\"]\n",
        "amigos.insert(1, \"Kelly\") # La función .insert te permite insertar en la posición que quieras el dato que deseas en la lista\n",
        "print(amigos)"
      ],
      "metadata": {
        "colab": {
          "base_uri": "https://localhost:8080/"
        },
        "id": "tT54hcjryAXs",
        "outputId": "65f90602-7a8d-41c9-ee8d-3099957fe15a"
      },
      "execution_count": 5,
      "outputs": [
        {
          "output_type": "stream",
          "name": "stdout",
          "text": [
            "['Kevin', 'Kelly', 'Karen', 'Jim', 'Oscar', 'Toby']\n"
          ]
        }
      ]
    },
    {
      "cell_type": "code",
      "source": [
        "números_suerte = [4, 8, 15, 16, 23, 42]\n",
        "amigos = [\"Kevin\", \"Karen\", \"Jim\", \"Oscar\", \"Toby\"]\n",
        "amigos.remove(\"Jim\") # La función .remove elimina de la lista el dato que especifiquemos\n",
        "print(amigos)"
      ],
      "metadata": {
        "colab": {
          "base_uri": "https://localhost:8080/"
        },
        "id": "JrqG_2fSySg6",
        "outputId": "d34d2cbd-9e3a-490a-e8b1-b03dc45ee83e"
      },
      "execution_count": 6,
      "outputs": [
        {
          "output_type": "stream",
          "name": "stdout",
          "text": [
            "['Kevin', 'Karen', 'Oscar', 'Toby']\n"
          ]
        }
      ]
    },
    {
      "cell_type": "code",
      "source": [
        "números_suerte = [4, 8, 15, 16, 23, 42]\n",
        "amigos = [\"Kevin\", \"Karen\", \"Jim\", \"Oscar\", \"Toby\"]\n",
        "amigos.clear() # La función .clear limpia por completo la lista\n",
        "print(amigos)"
      ],
      "metadata": {
        "colab": {
          "base_uri": "https://localhost:8080/"
        },
        "id": "EQ3gyQ1byhnh",
        "outputId": "64310a7a-e137-419e-f231-5ce54dbfc3cd"
      },
      "execution_count": 10,
      "outputs": [
        {
          "output_type": "stream",
          "name": "stdout",
          "text": [
            "[]\n"
          ]
        }
      ]
    },
    {
      "cell_type": "code",
      "source": [
        "números_suerte = [4, 8, 15, 16, 23, 42]\n",
        "amigos = [\"Kevin\", \"Karen\", \"Jim\", \"Oscar\", \"Toby\"]\n",
        "amigos.pop() # La función .pop hace estallar un dato de la lista, lo elimina\n",
        "print(amigos)"
      ],
      "metadata": {
        "colab": {
          "base_uri": "https://localhost:8080/"
        },
        "id": "5i_EyNgjzBk5",
        "outputId": "288e5292-7622-4f70-ec03-b8e805403c7b"
      },
      "execution_count": 11,
      "outputs": [
        {
          "output_type": "stream",
          "name": "stdout",
          "text": [
            "['Kevin', 'Karen', 'Jim', 'Oscar']\n"
          ]
        }
      ]
    },
    {
      "cell_type": "code",
      "source": [
        "números_suerte = [4, 8, 15, 16, 23, 42]\n",
        "amigos = [\"Kevin\", \"Karen\", \"Jim\", \"Oscar\", \"Toby\"]\n",
        "print(amigos.index(\"Jim\")) # La función .index comprueba el dato que incluimos está en la lista y su posición"
      ],
      "metadata": {
        "colab": {
          "base_uri": "https://localhost:8080/"
        },
        "id": "yuOaweXDzTyw",
        "outputId": "15f303bb-157d-433c-ba83-9bed6c13c829"
      },
      "execution_count": 14,
      "outputs": [
        {
          "output_type": "stream",
          "name": "stdout",
          "text": [
            "2\n"
          ]
        }
      ]
    },
    {
      "cell_type": "code",
      "source": [
        "números_suerte = [4, 8, 15, 16, 23, 42]\n",
        "amigos = [\"Kevin\", \"Karen\", \"Jim\", \"Jim\", \"Oscar\", \"Toby\"]\n",
        "print(amigos.count(\"Jim\")) # La función .count cuenta cuantas veces está el dato que queramos en la lista"
      ],
      "metadata": {
        "colab": {
          "base_uri": "https://localhost:8080/"
        },
        "id": "3wP4AMqkz0Q1",
        "outputId": "cc7a1ce9-4b38-48f8-d978-b797885fe261"
      },
      "execution_count": 15,
      "outputs": [
        {
          "output_type": "stream",
          "name": "stdout",
          "text": [
            "2\n"
          ]
        }
      ]
    },
    {
      "cell_type": "code",
      "source": [
        "números_suerte = [4, 8, 15, 16, 23, 42]\n",
        "amigos = [\"Kevin\", \"Karen\", \"Jim\", \"Jim\", \"Oscar\", \"Toby\"]\n",
        "amigos.sort() # La función .sort ordena los elementos de la lista\n",
        "print(amigos)"
      ],
      "metadata": {
        "colab": {
          "base_uri": "https://localhost:8080/"
        },
        "id": "xxE7GQQO0I3Z",
        "outputId": "0e74d754-d10e-4e9c-aee4-dd79f231fd4a"
      },
      "execution_count": 16,
      "outputs": [
        {
          "output_type": "stream",
          "name": "stdout",
          "text": [
            "['Jim', 'Jim', 'Karen', 'Kevin', 'Oscar', 'Toby']\n"
          ]
        }
      ]
    },
    {
      "cell_type": "code",
      "source": [
        "números_suerte = [4, 8, 15, 16, 23, 42]\n",
        "amigos = [\"Kevin\", \"Karen\", \"Jim\", \"Jim\", \"Oscar\", \"Toby\"]\n",
        "números_suerte.sort() \n",
        "print(números_suerte)"
      ],
      "metadata": {
        "colab": {
          "base_uri": "https://localhost:8080/"
        },
        "id": "CSlWK6oi0oEc",
        "outputId": "49487b5a-27d2-48ab-e2f7-caa29e73cc02"
      },
      "execution_count": 17,
      "outputs": [
        {
          "output_type": "stream",
          "name": "stdout",
          "text": [
            "[4, 8, 15, 16, 23, 42]\n"
          ]
        }
      ]
    },
    {
      "cell_type": "code",
      "source": [
        "números_suerte = [4, 8, 15, 16, 23, 42]\n",
        "amigos = [\"Kevin\", \"Karen\", \"Jim\", \"Jim\", \"Oscar\", \"Toby\"]\n",
        "números_suerte.reverse() # La función .reverse ordena al revés los elementos de la lista\n",
        "print(números_suerte)"
      ],
      "metadata": {
        "colab": {
          "base_uri": "https://localhost:8080/"
        },
        "id": "jV_onPxC00hk",
        "outputId": "ec65b21c-5633-4b21-b5a2-ab88b20b9bbd"
      },
      "execution_count": 19,
      "outputs": [
        {
          "output_type": "stream",
          "name": "stdout",
          "text": [
            "[42, 23, 16, 15, 8, 4]\n"
          ]
        }
      ]
    },
    {
      "cell_type": "code",
      "source": [
        "números_suerte = [4, 8, 15, 16, 23, 42]\n",
        "amigos = [\"Kevin\", \"Karen\", \"Jim\", \"Jim\", \"Oscar\", \"Toby\"]\n",
        "amigos2 = amigos.copy() # La función .copy copia la lista que especificamos\n",
        "print(amigos2)"
      ],
      "metadata": {
        "colab": {
          "base_uri": "https://localhost:8080/"
        },
        "id": "hm3ybiX01AlP",
        "outputId": "de7e816b-a6cf-4c02-c851-2bc1dae6cd49"
      },
      "execution_count": 21,
      "outputs": [
        {
          "output_type": "stream",
          "name": "stdout",
          "text": [
            "['Kevin', 'Karen', 'Jim', 'Jim', 'Oscar', 'Toby']\n"
          ]
        }
      ]
    }
  ]
}