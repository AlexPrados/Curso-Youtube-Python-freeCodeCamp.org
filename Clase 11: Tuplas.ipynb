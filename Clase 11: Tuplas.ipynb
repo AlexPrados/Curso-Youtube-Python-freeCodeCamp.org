{
  "nbformat": 4,
  "nbformat_minor": 0,
  "metadata": {
    "colab": {
      "name": "Clase 11: Tuplas.ipynb",
      "provenance": [],
      "collapsed_sections": [],
      "authorship_tag": "ABX9TyMaNQ8Ex5R32sqnGBmT7jka",
      "include_colab_link": true
    },
    "kernelspec": {
      "name": "python3",
      "display_name": "Python 3"
    },
    "language_info": {
      "name": "python"
    }
  },
  "cells": [
    {
      "cell_type": "markdown",
      "metadata": {
        "id": "view-in-github",
        "colab_type": "text"
      },
      "source": [
        "<a href=\"https://colab.research.google.com/github/AlexPrados/Curso-Youtube-Python-freeCodeCamp.org/blob/main/Clase%2011%3A%20Tuplas.ipynb\" target=\"_parent\"><img src=\"https://colab.research.google.com/assets/colab-badge.svg\" alt=\"Open In Colab\"/></a>"
      ]
    },
    {
      "cell_type": "markdown",
      "source": [
        "#Tuplas\n",
        "Es un contenedor en el que podemos almacenar valores diferentes. Es muy similar a las listas pero no son iguales. Las tuplas son inmutables, permite valores repetidos y es ordenado"
      ],
      "metadata": {
        "id": "k5yBgjmHxoMs"
      }
    },
    {
      "cell_type": "code",
      "execution_count": 4,
      "metadata": {
        "colab": {
          "base_uri": "https://localhost:8080/"
        },
        "id": "RZrBbWikw9uy",
        "outputId": "a5eeffdc-c979-4f8f-8e82-6cf4d879f958"
      },
      "outputs": [
        {
          "output_type": "stream",
          "name": "stdout",
          "text": [
            "5\n"
          ]
        }
      ],
      "source": [
        "coordinadas = (4, 5)\n",
        "print(coordinadas[1])"
      ]
    },
    {
      "cell_type": "code",
      "source": [
        "coordinadas = (4, 5)\n",
        "coordinates[1] = 10 # Al ser inmutables, no se le puede alterar su valor ni contenido\n",
        "print(coordinadas[1])"
      ],
      "metadata": {
        "colab": {
          "base_uri": "https://localhost:8080/",
          "height": 217
        },
        "id": "0mHSOzmOyh2f",
        "outputId": "b1986aa8-276f-4e53-989a-2965cef92ef4"
      },
      "execution_count": 3,
      "outputs": [
        {
          "output_type": "error",
          "ename": "NameError",
          "evalue": "ignored",
          "traceback": [
            "\u001b[0;31m---------------------------------------------------------------------------\u001b[0m",
            "\u001b[0;31mNameError\u001b[0m                                 Traceback (most recent call last)",
            "\u001b[0;32m<ipython-input-3-3b48d3fd040f>\u001b[0m in \u001b[0;36m<module>\u001b[0;34m()\u001b[0m\n\u001b[1;32m      1\u001b[0m \u001b[0mcoordinadas\u001b[0m \u001b[0;34m=\u001b[0m \u001b[0;34m(\u001b[0m\u001b[0;36m4\u001b[0m\u001b[0;34m,\u001b[0m \u001b[0;36m5\u001b[0m\u001b[0;34m)\u001b[0m\u001b[0;34m\u001b[0m\u001b[0;34m\u001b[0m\u001b[0m\n\u001b[0;32m----> 2\u001b[0;31m \u001b[0mcoordinates\u001b[0m\u001b[0;34m[\u001b[0m\u001b[0;36m1\u001b[0m\u001b[0;34m]\u001b[0m \u001b[0;34m=\u001b[0m \u001b[0;36m10\u001b[0m \u001b[0;31m# Al ser inmutables, no se le puede alterar su valor ni contenido\u001b[0m\u001b[0;34m\u001b[0m\u001b[0;34m\u001b[0m\u001b[0m\n\u001b[0m\u001b[1;32m      3\u001b[0m \u001b[0mprint\u001b[0m\u001b[0;34m(\u001b[0m\u001b[0mcoordinadas\u001b[0m\u001b[0;34m[\u001b[0m\u001b[0;36m1\u001b[0m\u001b[0;34m]\u001b[0m\u001b[0;34m)\u001b[0m\u001b[0;34m\u001b[0m\u001b[0;34m\u001b[0m\u001b[0m\n",
            "\u001b[0;31mNameError\u001b[0m: name 'coordinates' is not defined"
          ]
        }
      ]
    },
    {
      "cell_type": "code",
      "source": [
        "coordinadas = [(4, 5), (6, 7), (80, 34)] #Aquí tenemos varias tuplas dentro de una lista y siguen siendo inmutables"
      ],
      "metadata": {
        "id": "YbAMUHBxzBcZ"
      },
      "execution_count": 6,
      "outputs": []
    }
  ]
}