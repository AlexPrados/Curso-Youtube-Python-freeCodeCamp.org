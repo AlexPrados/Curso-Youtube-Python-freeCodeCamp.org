{
  "nbformat": 4,
  "nbformat_minor": 0,
  "metadata": {
    "colab": {
      "name": "Clase 7: Crear una calculadora básica.ipynb",
      "provenance": [],
      "collapsed_sections": [],
      "authorship_tag": "ABX9TyPuOOBiPzEpdTkimQEPNl0e",
      "include_colab_link": true
    },
    "kernelspec": {
      "name": "python3",
      "display_name": "Python 3"
    },
    "language_info": {
      "name": "python"
    }
  },
  "cells": [
    {
      "cell_type": "markdown",
      "metadata": {
        "id": "view-in-github",
        "colab_type": "text"
      },
      "source": [
        "<a href=\"https://colab.research.google.com/github/AlexPrados/Curso-Youtube-Python-freeCodeCamp.org/blob/main/Clase%207%3A%20Crear%20una%20calculadora%20b%C3%A1sica.ipynb\" target=\"_parent\"><img src=\"https://colab.research.google.com/assets/colab-badge.svg\" alt=\"Open In Colab\"/></a>"
      ]
    },
    {
      "cell_type": "markdown",
      "source": [
        "Crear una calculadora básica"
      ],
      "metadata": {
        "id": "JbpUKPvzvKL0"
      }
    },
    {
      "cell_type": "code",
      "execution_count": 1,
      "metadata": {
        "colab": {
          "base_uri": "https://localhost:8080/"
        },
        "id": "mVPJRsVBt_B1",
        "outputId": "da0f60cc-acae-47b1-a1bf-ac8d83b25e84"
      },
      "outputs": [
        {
          "output_type": "stream",
          "name": "stdout",
          "text": [
            "Ingresa un número: 5\n",
            "Ingresa otro número: 2\n",
            "52\n"
          ]
        }
      ],
      "source": [
        "num1 = input(\"Ingresa un número: \")\n",
        "num2 = input(\"Ingresa otro número: \")\n",
        "result = num1 + num2\n",
        "print(result) # Python entiende num1 y num2 como string o cadenas de caracteres"
      ]
    },
    {
      "cell_type": "code",
      "source": [
        "num1 = input(\"Ingresa un número: \")\n",
        "num2 = input(\"Ingresa otro número: \")\n",
        "result = int(num1) + int(num2) # Hemos trasformados num1 y num2 en int o números enteros\n",
        "print(result) # Sólo podemos hacer sumas con números enteros, no con números con decimiales. Para ello habría que cambiar la variable int por float"
      ],
      "metadata": {
        "colab": {
          "base_uri": "https://localhost:8080/"
        },
        "id": "yqDeNlVHwBlO",
        "outputId": "7a13e36f-66a2-4bf1-d7f9-b911a6dfbde8"
      },
      "execution_count": 2,
      "outputs": [
        {
          "output_type": "stream",
          "name": "stdout",
          "text": [
            "Ingresa un número: 5\n",
            "Ingresa otro número: 2\n",
            "7\n"
          ]
        }
      ]
    },
    {
      "cell_type": "code",
      "source": [
        "num1 = input(\"Ingresa un número: \")\n",
        "num2 = input(\"Ingresa otro número: \")\n",
        "result = float(num1) + float(num2)\n",
        "print(result)"
      ],
      "metadata": {
        "colab": {
          "base_uri": "https://localhost:8080/"
        },
        "id": "VsTxDO7CwqTg",
        "outputId": "cea53b41-7097-4dbc-b9aa-0a1d28207e2a"
      },
      "execution_count": 3,
      "outputs": [
        {
          "output_type": "stream",
          "name": "stdout",
          "text": [
            "Ingresa un número: 2.5\n",
            "Ingresa otro número: 6.2\n",
            "8.7\n"
          ]
        }
      ]
    }
  ]
}