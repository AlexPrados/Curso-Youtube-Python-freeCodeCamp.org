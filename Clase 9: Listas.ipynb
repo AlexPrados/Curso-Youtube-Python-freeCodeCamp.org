{
  "nbformat": 4,
  "nbformat_minor": 0,
  "metadata": {
    "colab": {
      "name": "Clase 9: Listas.ipynb",
      "provenance": [],
      "collapsed_sections": [],
      "authorship_tag": "ABX9TyMTo0dIZBGaMYrY2n6GkXzz",
      "include_colab_link": true
    },
    "kernelspec": {
      "name": "python3",
      "display_name": "Python 3"
    },
    "language_info": {
      "name": "python"
    }
  },
  "cells": [
    {
      "cell_type": "markdown",
      "metadata": {
        "id": "view-in-github",
        "colab_type": "text"
      },
      "source": [
        "<a href=\"https://colab.research.google.com/github/AlexPrados/Curso-Youtube-Python-freeCodeCamp.org/blob/main/Clase%209%3A%20Listas.ipynb\" target=\"_parent\"><img src=\"https://colab.research.google.com/assets/colab-badge.svg\" alt=\"Open In Colab\"/></a>"
      ]
    },
    {
      "cell_type": "markdown",
      "source": [
        "Listas"
      ],
      "metadata": {
        "id": "zpJdeFcCjm3F"
      }
    },
    {
      "cell_type": "code",
      "execution_count": 4,
      "metadata": {
        "colab": {
          "base_uri": "https://localhost:8080/"
        },
        "id": "cjFm6V5YjaNj",
        "outputId": "a7701945-b463-48cd-9d13-c95eab1bf51f"
      },
      "outputs": [
        {
          "output_type": "stream",
          "name": "stdout",
          "text": [
            "['Kevin', 'Karen', 'Jim']\n"
          ]
        }
      ],
      "source": [
        "amigos = [\"Kevin\", \"Karen\", \"Jim\"] # Las listas se hacen con [] y son mutables, se pueden repetir valores y son ordenadas\n",
        "print(amigos)"
      ]
    },
    {
      "cell_type": "code",
      "source": [
        "amigos = [\"Kevin\", \"Karen\", \"Jim\"] # Podemos buscar el valor en la lista con el número que ocupa en la lista con []\n",
        "print(amigos [0])"
      ],
      "metadata": {
        "colab": {
          "base_uri": "https://localhost:8080/"
        },
        "id": "4eGGNlqpmSsI",
        "outputId": "67bf2f15-4c9d-4919-a5f7-66964f355045"
      },
      "execution_count": 5,
      "outputs": [
        {
          "output_type": "stream",
          "name": "stdout",
          "text": [
            "Kevin\n"
          ]
        }
      ]
    },
    {
      "cell_type": "code",
      "source": [
        "amigos = [\"Kevin\", \"Karen\", \"Jim\", \"Oscar\", \"Toby\"]\n",
        "print(amigos [1:3]) # También podemos buscar más de un elemento de la lista"
      ],
      "metadata": {
        "colab": {
          "base_uri": "https://localhost:8080/"
        },
        "id": "kS5iVjvFm-bQ",
        "outputId": "f0125e52-e477-4d23-8087-cfa95f877ec2"
      },
      "execution_count": 6,
      "outputs": [
        {
          "output_type": "stream",
          "name": "stdout",
          "text": [
            "['Karen', 'Jim']\n"
          ]
        }
      ]
    },
    {
      "cell_type": "code",
      "source": [
        "amigos = [\"Kevin\", \"Karen\", \"Jim\", \"Oscar\", \"Toby\"]\n",
        "amigos [1] = \"Mike\"\n",
        "print(amigos [1]) # También podemos asignarles un número de la lista concreto un dato que queramos"
      ],
      "metadata": {
        "colab": {
          "base_uri": "https://localhost:8080/"
        },
        "id": "SsaXAdTNnPBa",
        "outputId": "af5d8877-34ee-4338-91c4-09a95209960f"
      },
      "execution_count": 9,
      "outputs": [
        {
          "output_type": "stream",
          "name": "stdout",
          "text": [
            "Mike\n"
          ]
        }
      ]
    }
  ]
}