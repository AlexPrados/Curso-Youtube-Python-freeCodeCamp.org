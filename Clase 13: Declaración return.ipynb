{
  "nbformat": 4,
  "nbformat_minor": 0,
  "metadata": {
    "colab": {
      "name": "Clase 13: Declaración return.ipynb",
      "provenance": [],
      "collapsed_sections": [],
      "authorship_tag": "ABX9TyMXKkMxBu2GcWO0TQQj3ydk",
      "include_colab_link": true
    },
    "kernelspec": {
      "name": "python3",
      "display_name": "Python 3"
    },
    "language_info": {
      "name": "python"
    }
  },
  "cells": [
    {
      "cell_type": "markdown",
      "metadata": {
        "id": "view-in-github",
        "colab_type": "text"
      },
      "source": [
        "<a href=\"https://colab.research.google.com/github/AlexPrados/Curso-Youtube-Python-freeCodeCamp.org/blob/main/Clase%2013%3A%20Declaraci%C3%B3n%20return.ipynb\" target=\"_parent\"><img src=\"https://colab.research.google.com/assets/colab-badge.svg\" alt=\"Open In Colab\"/></a>"
      ]
    },
    {
      "cell_type": "markdown",
      "source": [
        "#Declaración return\n",
        "La función return nos permite que Python nos devuleva información sobre una función"
      ],
      "metadata": {
        "id": "mlQIK2F6ul4Y"
      }
    },
    {
      "cell_type": "code",
      "execution_count": 7,
      "metadata": {
        "id": "-PfHj79guetS",
        "colab": {
          "base_uri": "https://localhost:8080/"
        },
        "outputId": "8cf2cece-e586-4170-89fa-4dfd2c14b897"
      },
      "outputs": [
        {
          "output_type": "stream",
          "name": "stdout",
          "text": [
            "27\n"
          ]
        }
      ],
      "source": [
        "def cubo(núm): # La sentencia def es una definición de función usada para crear objetos funciones definidas por el usuario\n",
        "  return núm*núm*núm # Queremos que la función cubo eleve x^3 a los número que se introduzcan en la función\n",
        "\n",
        "print(cubo(3))"
      ]
    },
    {
      "cell_type": "code",
      "source": [
        "def cubo(núm): \n",
        "  return núm*núm*núm\n",
        "\n",
        "resultado = cubo(4) # La variable resultado almacena el valor que queremos que devuelva la función\n",
        "print(resultado)"
      ],
      "metadata": {
        "colab": {
          "base_uri": "https://localhost:8080/"
        },
        "id": "vjAUVWMSqSw6",
        "outputId": "68750b56-73e9-4cb4-9304-7883bdede98c"
      },
      "execution_count": 10,
      "outputs": [
        {
          "output_type": "stream",
          "name": "stdout",
          "text": [
            "64\n"
          ]
        }
      ]
    }
  ]
}