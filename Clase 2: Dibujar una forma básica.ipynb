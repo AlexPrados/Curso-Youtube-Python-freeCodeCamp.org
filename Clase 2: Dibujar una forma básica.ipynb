{
  "nbformat": 4,
  "nbformat_minor": 0,
  "metadata": {
    "colab": {
      "name": "Clase 2: Dibujar una forma básica.ipynb",
      "provenance": [],
      "collapsed_sections": [],
      "authorship_tag": "ABX9TyNVcqGsWueSHnKLqUi+NsZ8",
      "include_colab_link": true
    },
    "kernelspec": {
      "name": "python3",
      "display_name": "Python 3"
    },
    "language_info": {
      "name": "python"
    }
  },
  "cells": [
    {
      "cell_type": "markdown",
      "metadata": {
        "id": "view-in-github",
        "colab_type": "text"
      },
      "source": [
        "<a href=\"https://colab.research.google.com/github/AlexPrados/Basicos/blob/main/Clase%202%3A%20Dibujar%20una%20forma%20b%C3%A1sica.ipynb\" target=\"_parent\"><img src=\"https://colab.research.google.com/assets/colab-badge.svg\" alt=\"Open In Colab\"/></a>"
      ]
    },
    {
      "cell_type": "markdown",
      "source": [
        "Dibujar una forma básica"
      ],
      "metadata": {
        "id": "j5FUqdgdSDQM"
      }
    },
    {
      "cell_type": "code",
      "execution_count": 1,
      "metadata": {
        "colab": {
          "base_uri": "https://localhost:8080/"
        },
        "id": "n0Tp2Lg0RNC4",
        "outputId": "208fcafe-0e87-4eb7-fcb5-3d1fbc6a4508"
      },
      "outputs": [
        {
          "output_type": "stream",
          "name": "stdout",
          "text": [
            "   /|\n",
            "  / |\n",
            " /  |\n",
            "/___|\n"
          ]
        }
      ],
      "source": [
        "print(\"   /|\") # Para poner la barra vertical | hay que presionar el botón alt mientras escribes 124 para luego soltar el botón alt\n",
        "print(\"  / |\") # El orden el que las instrucciones están escritas será el orden en el que serán representadas\n",
        "print(\" /  |\")\n",
        "print(\"/___|\")"
      ]
    }
  ]
}