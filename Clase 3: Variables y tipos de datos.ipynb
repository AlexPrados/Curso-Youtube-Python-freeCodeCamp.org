{
  "nbformat": 4,
  "nbformat_minor": 0,
  "metadata": {
    "colab": {
      "name": "Clase 3: Variables y tipos de datos.ipynb",
      "provenance": [],
      "collapsed_sections": [],
      "authorship_tag": "ABX9TyODIxaYj4zNjGkRVPPpgumP",
      "include_colab_link": true
    },
    "kernelspec": {
      "name": "python3",
      "display_name": "Python 3"
    },
    "language_info": {
      "name": "python"
    }
  },
  "cells": [
    {
      "cell_type": "markdown",
      "metadata": {
        "id": "view-in-github",
        "colab_type": "text"
      },
      "source": [
        "<a href=\"https://colab.research.google.com/github/AlexPrados/Curso-Youtube-Python-freeCodeCamp.org/blob/main/Clase%203%3A%20Variables%20y%20tipos%20de%20datos.ipynb\" target=\"_parent\"><img src=\"https://colab.research.google.com/assets/colab-badge.svg\" alt=\"Open In Colab\"/></a>"
      ]
    },
    {
      "cell_type": "markdown",
      "source": [
        "#Variables y tipos de datos\n",
        "Las variables son contenedores donde podemos almacenar ciertos valores de datos. "
      ],
      "metadata": {
        "id": "YWh6TaQmWRbo"
      }
    },
    {
      "cell_type": "code",
      "execution_count": null,
      "metadata": {
        "colab": {
          "base_uri": "https://localhost:8080/"
        },
        "id": "Tio1QGixWMRZ",
        "outputId": "b62d87f5-c9e3-4ed2-9b68-367d470baa23"
      },
      "outputs": [
        {
          "output_type": "stream",
          "name": "stdout",
          "text": [
            "Había una vez un hombre llamado Jhon, \n",
            "él tenía 35 años. \n",
            "A él realmente le gustaba el nombre Mike, \n",
            "pero no le gustaba tener 35 años\n"
          ]
        }
      ],
      "source": [
        "nombre_personaje = \"Jhon\"\n",
        "edad_personaje = \"35\" # Desconozco por qué no funciona sin los \"\" si es un número, ya que no es necesario en los int, float y valores booleanos. Puede que sea exclusivo de este tipo de situaciones.\n",
        "print(\"Había una vez un hombre llamado \" + nombre_personaje + \", \")\n",
        "print(\"él tenía \" + edad_personaje + \" años. \")\n",
        "\n",
        "nombre_personaje = \"Mike\"\n",
        "print(\"A él realmente le gustaba el nombre \" + nombre_personaje + \", \")\n",
        "print(\"pero no le gustaba tener \" + edad_personaje + \" años\")"
      ]
    },
    {
      "cell_type": "code",
      "source": [
        "nombre_personaje = \"Jhon\"\n",
        "edad_personaje = 35 # Esta es la forma en la que acepta el número sin las comillas (srt es el acrónimo de string)\n",
        "print(\"Había una vez un hombre llamado \" + nombre_personaje + \", \")\n",
        "print(\"él tenía \" + str(edad_personaje) + \" años. \")\n",
        "\n",
        "nombre_personaje = \"Mike\"\n",
        "print(\"A él realmente le gustaba el nombre \" + nombre_personaje + \", \")\n",
        "print(\"pero no le gustaba tener \" + str(edad_personaje) + \" años\")"
      ],
      "metadata": {
        "colab": {
          "base_uri": "https://localhost:8080/"
        },
        "id": "0JJnJ4cYkC0i",
        "outputId": "4d86fcbc-87de-4ad0-b3cf-2c593c585327"
      },
      "execution_count": null,
      "outputs": [
        {
          "output_type": "stream",
          "name": "stdout",
          "text": [
            "Había una vez un hombre llamado Jhon, \n",
            "él tenía 35 años. \n",
            "A él realmente le gustaba el nombre Mike, \n",
            "pero no le gustaba tener 35 años\n"
          ]
        }
      ]
    },
    {
      "cell_type": "markdown",
      "source": [
        "Existen cuatro tipo de datos principales: \n",
        "\n",
        "*   Cadenas de caracteres, los cuales siempre deben estar entre \"\" (string o str)\n",
        "*   Números enteros, los cuales no tienen decimales (int)\n",
        "*   Números de punto flotante, los cuales tienen decimales (float)\n",
        "*   Valores booleanos, ya sean verdadero (True) o falso (False); (bool)\n",
        "\n",
        "\n",
        "\n"
      ],
      "metadata": {
        "id": "93snfsHQebAD"
      }
    },
    {
      "cell_type": "code",
      "source": [
        "int(35) # Comprobación de que Python no tiene problemas con los int\n",
        "numero = 35\n",
        "print(numero)"
      ],
      "metadata": {
        "colab": {
          "base_uri": "https://localhost:8080/"
        },
        "id": "lhmN80ffgRml",
        "outputId": "d8fe4e0d-bbb9-4dc0-c061-0bd310b02183"
      },
      "execution_count": null,
      "outputs": [
        {
          "output_type": "stream",
          "name": "stdout",
          "text": [
            "35\n"
          ]
        }
      ]
    }
  ]
}