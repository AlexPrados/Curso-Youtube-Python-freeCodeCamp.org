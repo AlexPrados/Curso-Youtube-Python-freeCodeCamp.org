{
  "nbformat": 4,
  "nbformat_minor": 0,
  "metadata": {
    "colab": {
      "name": "Clase 8: Juego Mad Libs.ipynb",
      "provenance": [],
      "collapsed_sections": [],
      "authorship_tag": "ABX9TyNEk24/NqXtA7xzOJUPpeLa",
      "include_colab_link": true
    },
    "kernelspec": {
      "name": "python3",
      "display_name": "Python 3"
    },
    "language_info": {
      "name": "python"
    }
  },
  "cells": [
    {
      "cell_type": "markdown",
      "metadata": {
        "id": "view-in-github",
        "colab_type": "text"
      },
      "source": [
        "<a href=\"https://colab.research.google.com/github/AlexPrados/Curso-Youtube-Python-freeCodeCamp.org/blob/main/Clase%208%3A%20Juego%20Mad%20Libs.ipynb\" target=\"_parent\"><img src=\"https://colab.research.google.com/assets/colab-badge.svg\" alt=\"Open In Colab\"/></a>"
      ]
    },
    {
      "cell_type": "markdown",
      "source": [
        "#Juego Mad Libs\n",
        "Es un juego en donde llenas un montón de espacios en blanco de diferentes tipos de palabras, después se genera una historia en base a esas palabras y a veces la historia es sorprendentemente graciosa."
      ],
      "metadata": {
        "id": "gtSMraxJyCqJ"
      }
    },
    {
      "cell_type": "code",
      "execution_count": 5,
      "metadata": {
        "colab": {
          "base_uri": "https://localhost:8080/"
        },
        "id": "bZdc4gyrxs5B",
        "outputId": "0adb2da9-1e00-4bca-dfb8-2d401277d5f1"
      },
      "outputs": [
        {
          "output_type": "stream",
          "name": "stdout",
          "text": [
            "Introduzca un color en plural: amarillos\n",
            "Introduzca un sustantivo en plural con su artículo definido: los coches\n",
            "Introduzca el nombre de una celebridad: Ariana Grande\n",
            "Las rosas son amarillos\n",
            "los coches son azules\n",
            "Me gusta Ariana Grande\n"
          ]
        }
      ],
      "source": [
        "color = input(\"Introduzca un color en plural: \") # Acordarse que la función input permite que el usuario introduzca datos\n",
        "sustantivo_plural = input(\"Introduzca un sustantivo en plural con su artículo definido: \")\n",
        "celebridad = input(\"Introduzca el nombre de una celebridad: \")\n",
        "\n",
        "print(\"Las rosas son \" + color)\n",
        "print(sustantivo_plural + \" son azules\")\n",
        "print(\"Me gusta \" + celebridad)"
      ]
    }
  ]
}